{
  "nbformat": 4,
  "nbformat_minor": 0,
  "metadata": {
    "colab": {
      "provenance": []
    },
    "kernelspec": {
      "name": "python3",
      "display_name": "Python 3"
    },
    "language_info": {
      "name": "python"
    }
  },
  "cells": [
    {
      "cell_type": "code",
      "execution_count": 147,
      "metadata": {
        "id": "vIdshPcCGEO4"
      },
      "outputs": [],
      "source": [
        "import pandas as pd\n",
        "from nltk.tokenize import word_tokenize\n",
        "from nltk.corpus import stopwords\n",
        "import string\n",
        "from sklearn.feature_extraction.text import TfidfVectorizer\n",
        "from sklearn.preprocessing import normalize\n",
        "import pickle\n",
        "import re\n"
      ]
    },
    {
      "cell_type": "code",
      "source": [
        "df = pd.read_csv(\"/content/A2_Data.csv\")\n",
        "df.rename(columns={'Unnamed: 0': 'product id'}, inplace=True)"
      ],
      "metadata": {
        "id": "ZPYGPiWqGYO6"
      },
      "execution_count": 148,
      "outputs": []
    },
    {
      "cell_type": "code",
      "source": [
        "df"
      ],
      "metadata": {
        "colab": {
          "base_uri": "https://localhost:8080/",
          "height": 615
        },
        "id": "qiaapVQAHaPs",
        "outputId": "fc0de8f0-1cba-4f51-ddfb-ac09f48ee891"
      },
      "execution_count": 149,
      "outputs": [
        {
          "output_type": "execute_result",
          "data": {
            "text/plain": [
              "     product id                                              Image  \\\n",
              "0          3452  ['https://images-na.ssl-images-amazon.com/imag...   \n",
              "1          1205  ['https://images-na.ssl-images-amazon.com/imag...   \n",
              "2          1708  ['https://images-na.ssl-images-amazon.com/imag...   \n",
              "3          2078  ['https://images-na.ssl-images-amazon.com/imag...   \n",
              "4           801  ['https://images-na.ssl-images-amazon.com/imag...   \n",
              "..          ...                                                ...   \n",
              "995        1265  ['https://images-na.ssl-images-amazon.com/imag...   \n",
              "996        1882  ['https://images-na.ssl-images-amazon.com/imag...   \n",
              "997        1547  ['https://images-na.ssl-images-amazon.com/imag...   \n",
              "998        1004  ['https://images-na.ssl-images-amazon.com/imag...   \n",
              "999        1306  ['https://images-na.ssl-images-amazon.com/imag...   \n",
              "\n",
              "                                           Review Text  \n",
              "0    Loving these vintage springs on my vintage str...  \n",
              "1    Works great as a guitar bench mat. Not rugged ...  \n",
              "2    We use these for everything from our acoustic ...  \n",
              "3    Great price and good quality.  It didn't quite...  \n",
              "4    I bought this bass to split time as my primary...  \n",
              "..                                                 ...  \n",
              "995                 Extremely impressed with this kit.  \n",
              "996  This is a great stereo reverb with plenty of c...  \n",
              "997  I really like the simplicity of this bridge. I...  \n",
              "998  Great Product, but there is no warranty in the...  \n",
              "999  This product is good and is used in profession...  \n",
              "\n",
              "[1000 rows x 3 columns]"
            ],
            "text/html": [
              "\n",
              "  <div id=\"df-11ddb453-de56-4dbe-8c2d-93249495433e\" class=\"colab-df-container\">\n",
              "    <div>\n",
              "<style scoped>\n",
              "    .dataframe tbody tr th:only-of-type {\n",
              "        vertical-align: middle;\n",
              "    }\n",
              "\n",
              "    .dataframe tbody tr th {\n",
              "        vertical-align: top;\n",
              "    }\n",
              "\n",
              "    .dataframe thead th {\n",
              "        text-align: right;\n",
              "    }\n",
              "</style>\n",
              "<table border=\"1\" class=\"dataframe\">\n",
              "  <thead>\n",
              "    <tr style=\"text-align: right;\">\n",
              "      <th></th>\n",
              "      <th>product id</th>\n",
              "      <th>Image</th>\n",
              "      <th>Review Text</th>\n",
              "    </tr>\n",
              "  </thead>\n",
              "  <tbody>\n",
              "    <tr>\n",
              "      <th>0</th>\n",
              "      <td>3452</td>\n",
              "      <td>['https://images-na.ssl-images-amazon.com/imag...</td>\n",
              "      <td>Loving these vintage springs on my vintage str...</td>\n",
              "    </tr>\n",
              "    <tr>\n",
              "      <th>1</th>\n",
              "      <td>1205</td>\n",
              "      <td>['https://images-na.ssl-images-amazon.com/imag...</td>\n",
              "      <td>Works great as a guitar bench mat. Not rugged ...</td>\n",
              "    </tr>\n",
              "    <tr>\n",
              "      <th>2</th>\n",
              "      <td>1708</td>\n",
              "      <td>['https://images-na.ssl-images-amazon.com/imag...</td>\n",
              "      <td>We use these for everything from our acoustic ...</td>\n",
              "    </tr>\n",
              "    <tr>\n",
              "      <th>3</th>\n",
              "      <td>2078</td>\n",
              "      <td>['https://images-na.ssl-images-amazon.com/imag...</td>\n",
              "      <td>Great price and good quality.  It didn't quite...</td>\n",
              "    </tr>\n",
              "    <tr>\n",
              "      <th>4</th>\n",
              "      <td>801</td>\n",
              "      <td>['https://images-na.ssl-images-amazon.com/imag...</td>\n",
              "      <td>I bought this bass to split time as my primary...</td>\n",
              "    </tr>\n",
              "    <tr>\n",
              "      <th>...</th>\n",
              "      <td>...</td>\n",
              "      <td>...</td>\n",
              "      <td>...</td>\n",
              "    </tr>\n",
              "    <tr>\n",
              "      <th>995</th>\n",
              "      <td>1265</td>\n",
              "      <td>['https://images-na.ssl-images-amazon.com/imag...</td>\n",
              "      <td>Extremely impressed with this kit.</td>\n",
              "    </tr>\n",
              "    <tr>\n",
              "      <th>996</th>\n",
              "      <td>1882</td>\n",
              "      <td>['https://images-na.ssl-images-amazon.com/imag...</td>\n",
              "      <td>This is a great stereo reverb with plenty of c...</td>\n",
              "    </tr>\n",
              "    <tr>\n",
              "      <th>997</th>\n",
              "      <td>1547</td>\n",
              "      <td>['https://images-na.ssl-images-amazon.com/imag...</td>\n",
              "      <td>I really like the simplicity of this bridge. I...</td>\n",
              "    </tr>\n",
              "    <tr>\n",
              "      <th>998</th>\n",
              "      <td>1004</td>\n",
              "      <td>['https://images-na.ssl-images-amazon.com/imag...</td>\n",
              "      <td>Great Product, but there is no warranty in the...</td>\n",
              "    </tr>\n",
              "    <tr>\n",
              "      <th>999</th>\n",
              "      <td>1306</td>\n",
              "      <td>['https://images-na.ssl-images-amazon.com/imag...</td>\n",
              "      <td>This product is good and is used in profession...</td>\n",
              "    </tr>\n",
              "  </tbody>\n",
              "</table>\n",
              "<p>1000 rows × 3 columns</p>\n",
              "</div>\n",
              "    <div class=\"colab-df-buttons\">\n",
              "\n",
              "  <div class=\"colab-df-container\">\n",
              "    <button class=\"colab-df-convert\" onclick=\"convertToInteractive('df-11ddb453-de56-4dbe-8c2d-93249495433e')\"\n",
              "            title=\"Convert this dataframe to an interactive table.\"\n",
              "            style=\"display:none;\">\n",
              "\n",
              "  <svg xmlns=\"http://www.w3.org/2000/svg\" height=\"24px\" viewBox=\"0 -960 960 960\">\n",
              "    <path d=\"M120-120v-720h720v720H120Zm60-500h600v-160H180v160Zm220 220h160v-160H400v160Zm0 220h160v-160H400v160ZM180-400h160v-160H180v160Zm440 0h160v-160H620v160ZM180-180h160v-160H180v160Zm440 0h160v-160H620v160Z\"/>\n",
              "  </svg>\n",
              "    </button>\n",
              "\n",
              "  <style>\n",
              "    .colab-df-container {\n",
              "      display:flex;\n",
              "      gap: 12px;\n",
              "    }\n",
              "\n",
              "    .colab-df-convert {\n",
              "      background-color: #E8F0FE;\n",
              "      border: none;\n",
              "      border-radius: 50%;\n",
              "      cursor: pointer;\n",
              "      display: none;\n",
              "      fill: #1967D2;\n",
              "      height: 32px;\n",
              "      padding: 0 0 0 0;\n",
              "      width: 32px;\n",
              "    }\n",
              "\n",
              "    .colab-df-convert:hover {\n",
              "      background-color: #E2EBFA;\n",
              "      box-shadow: 0px 1px 2px rgba(60, 64, 67, 0.3), 0px 1px 3px 1px rgba(60, 64, 67, 0.15);\n",
              "      fill: #174EA6;\n",
              "    }\n",
              "\n",
              "    .colab-df-buttons div {\n",
              "      margin-bottom: 4px;\n",
              "    }\n",
              "\n",
              "    [theme=dark] .colab-df-convert {\n",
              "      background-color: #3B4455;\n",
              "      fill: #D2E3FC;\n",
              "    }\n",
              "\n",
              "    [theme=dark] .colab-df-convert:hover {\n",
              "      background-color: #434B5C;\n",
              "      box-shadow: 0px 1px 3px 1px rgba(0, 0, 0, 0.15);\n",
              "      filter: drop-shadow(0px 1px 2px rgba(0, 0, 0, 0.3));\n",
              "      fill: #FFFFFF;\n",
              "    }\n",
              "  </style>\n",
              "\n",
              "    <script>\n",
              "      const buttonEl =\n",
              "        document.querySelector('#df-11ddb453-de56-4dbe-8c2d-93249495433e button.colab-df-convert');\n",
              "      buttonEl.style.display =\n",
              "        google.colab.kernel.accessAllowed ? 'block' : 'none';\n",
              "\n",
              "      async function convertToInteractive(key) {\n",
              "        const element = document.querySelector('#df-11ddb453-de56-4dbe-8c2d-93249495433e');\n",
              "        const dataTable =\n",
              "          await google.colab.kernel.invokeFunction('convertToInteractive',\n",
              "                                                    [key], {});\n",
              "        if (!dataTable) return;\n",
              "\n",
              "        const docLinkHtml = 'Like what you see? Visit the ' +\n",
              "          '<a target=\"_blank\" href=https://colab.research.google.com/notebooks/data_table.ipynb>data table notebook</a>'\n",
              "          + ' to learn more about interactive tables.';\n",
              "        element.innerHTML = '';\n",
              "        dataTable['output_type'] = 'display_data';\n",
              "        await google.colab.output.renderOutput(dataTable, element);\n",
              "        const docLink = document.createElement('div');\n",
              "        docLink.innerHTML = docLinkHtml;\n",
              "        element.appendChild(docLink);\n",
              "      }\n",
              "    </script>\n",
              "  </div>\n",
              "\n",
              "\n",
              "<div id=\"df-04c314a0-fc27-45e3-9523-6df3a8c6c80e\">\n",
              "  <button class=\"colab-df-quickchart\" onclick=\"quickchart('df-04c314a0-fc27-45e3-9523-6df3a8c6c80e')\"\n",
              "            title=\"Suggest charts\"\n",
              "            style=\"display:none;\">\n",
              "\n",
              "<svg xmlns=\"http://www.w3.org/2000/svg\" height=\"24px\"viewBox=\"0 0 24 24\"\n",
              "     width=\"24px\">\n",
              "    <g>\n",
              "        <path d=\"M19 3H5c-1.1 0-2 .9-2 2v14c0 1.1.9 2 2 2h14c1.1 0 2-.9 2-2V5c0-1.1-.9-2-2-2zM9 17H7v-7h2v7zm4 0h-2V7h2v10zm4 0h-2v-4h2v4z\"/>\n",
              "    </g>\n",
              "</svg>\n",
              "  </button>\n",
              "\n",
              "<style>\n",
              "  .colab-df-quickchart {\n",
              "      --bg-color: #E8F0FE;\n",
              "      --fill-color: #1967D2;\n",
              "      --hover-bg-color: #E2EBFA;\n",
              "      --hover-fill-color: #174EA6;\n",
              "      --disabled-fill-color: #AAA;\n",
              "      --disabled-bg-color: #DDD;\n",
              "  }\n",
              "\n",
              "  [theme=dark] .colab-df-quickchart {\n",
              "      --bg-color: #3B4455;\n",
              "      --fill-color: #D2E3FC;\n",
              "      --hover-bg-color: #434B5C;\n",
              "      --hover-fill-color: #FFFFFF;\n",
              "      --disabled-bg-color: #3B4455;\n",
              "      --disabled-fill-color: #666;\n",
              "  }\n",
              "\n",
              "  .colab-df-quickchart {\n",
              "    background-color: var(--bg-color);\n",
              "    border: none;\n",
              "    border-radius: 50%;\n",
              "    cursor: pointer;\n",
              "    display: none;\n",
              "    fill: var(--fill-color);\n",
              "    height: 32px;\n",
              "    padding: 0;\n",
              "    width: 32px;\n",
              "  }\n",
              "\n",
              "  .colab-df-quickchart:hover {\n",
              "    background-color: var(--hover-bg-color);\n",
              "    box-shadow: 0 1px 2px rgba(60, 64, 67, 0.3), 0 1px 3px 1px rgba(60, 64, 67, 0.15);\n",
              "    fill: var(--button-hover-fill-color);\n",
              "  }\n",
              "\n",
              "  .colab-df-quickchart-complete:disabled,\n",
              "  .colab-df-quickchart-complete:disabled:hover {\n",
              "    background-color: var(--disabled-bg-color);\n",
              "    fill: var(--disabled-fill-color);\n",
              "    box-shadow: none;\n",
              "  }\n",
              "\n",
              "  .colab-df-spinner {\n",
              "    border: 2px solid var(--fill-color);\n",
              "    border-color: transparent;\n",
              "    border-bottom-color: var(--fill-color);\n",
              "    animation:\n",
              "      spin 1s steps(1) infinite;\n",
              "  }\n",
              "\n",
              "  @keyframes spin {\n",
              "    0% {\n",
              "      border-color: transparent;\n",
              "      border-bottom-color: var(--fill-color);\n",
              "      border-left-color: var(--fill-color);\n",
              "    }\n",
              "    20% {\n",
              "      border-color: transparent;\n",
              "      border-left-color: var(--fill-color);\n",
              "      border-top-color: var(--fill-color);\n",
              "    }\n",
              "    30% {\n",
              "      border-color: transparent;\n",
              "      border-left-color: var(--fill-color);\n",
              "      border-top-color: var(--fill-color);\n",
              "      border-right-color: var(--fill-color);\n",
              "    }\n",
              "    40% {\n",
              "      border-color: transparent;\n",
              "      border-right-color: var(--fill-color);\n",
              "      border-top-color: var(--fill-color);\n",
              "    }\n",
              "    60% {\n",
              "      border-color: transparent;\n",
              "      border-right-color: var(--fill-color);\n",
              "    }\n",
              "    80% {\n",
              "      border-color: transparent;\n",
              "      border-right-color: var(--fill-color);\n",
              "      border-bottom-color: var(--fill-color);\n",
              "    }\n",
              "    90% {\n",
              "      border-color: transparent;\n",
              "      border-bottom-color: var(--fill-color);\n",
              "    }\n",
              "  }\n",
              "</style>\n",
              "\n",
              "  <script>\n",
              "    async function quickchart(key) {\n",
              "      const quickchartButtonEl =\n",
              "        document.querySelector('#' + key + ' button');\n",
              "      quickchartButtonEl.disabled = true;  // To prevent multiple clicks.\n",
              "      quickchartButtonEl.classList.add('colab-df-spinner');\n",
              "      try {\n",
              "        const charts = await google.colab.kernel.invokeFunction(\n",
              "            'suggestCharts', [key], {});\n",
              "      } catch (error) {\n",
              "        console.error('Error during call to suggestCharts:', error);\n",
              "      }\n",
              "      quickchartButtonEl.classList.remove('colab-df-spinner');\n",
              "      quickchartButtonEl.classList.add('colab-df-quickchart-complete');\n",
              "    }\n",
              "    (() => {\n",
              "      let quickchartButtonEl =\n",
              "        document.querySelector('#df-04c314a0-fc27-45e3-9523-6df3a8c6c80e button');\n",
              "      quickchartButtonEl.style.display =\n",
              "        google.colab.kernel.accessAllowed ? 'block' : 'none';\n",
              "    })();\n",
              "  </script>\n",
              "</div>\n",
              "    </div>\n",
              "  </div>\n"
            ],
            "application/vnd.google.colaboratory.intrinsic+json": {
              "type": "dataframe",
              "variable_name": "df",
              "summary": "{\n  \"name\": \"df\",\n  \"rows\": 1000,\n  \"fields\": [\n    {\n      \"column\": \"product id\",\n      \"properties\": {\n        \"dtype\": \"number\",\n        \"std\": 1109,\n        \"min\": 4,\n        \"max\": 3888,\n        \"num_unique_values\": 1000,\n        \"samples\": [\n          1023,\n          2801,\n          244\n        ],\n        \"semantic_type\": \"\",\n        \"description\": \"\"\n      }\n    },\n    {\n      \"column\": \"Image\",\n      \"properties\": {\n        \"dtype\": \"string\",\n        \"num_unique_values\": 990,\n        \"samples\": [\n          \"['https://images-na.ssl-images-amazon.com/images/I/71vNRf0A+YL._SY88.jpg']\",\n          \"['https://images-na.ssl-images-amazon.com/images/I/61zFPF6hgrL._SY88.jpg']\",\n          \"['https://images-na.ssl-images-amazon.com/images/I/71aNT7H6QxL._SY88.jpg']\"\n        ],\n        \"semantic_type\": \"\",\n        \"description\": \"\"\n      }\n    },\n    {\n      \"column\": \"Review Text\",\n      \"properties\": {\n        \"dtype\": \"string\",\n        \"num_unique_values\": 996,\n        \"samples\": [\n          \"I like this pedal very much so far. My favorite pedal was a Joyo and it didn't last long. It's in my junk pile. I hate the for the money thing. This delay pedal does a lot more than most one trick ponys out there. Money when you get into Chinese stuff is a gamble, I hope I get some time out of this Joyo because it just that great.\",\n          \"These are alot better than the Mahalo felt picks I've been using on my ukuleles. The Mahalos are soft, fat and flat, these are stiff, thinner and tapered, meaning they're easier to hold and play with and I get sharper sound. The 12 I got should last for quite some time, the Mahalos are showing more wear. Probably everyone should get some felt picks, very useful and alot of fun; these are really good ones.\",\n          \"Best strap lock system out there! -\"\n        ],\n        \"semantic_type\": \"\",\n        \"description\": \"\"\n      }\n    }\n  ]\n}"
            }
          },
          "metadata": {},
          "execution_count": 149
        }
      ]
    },
    {
      "cell_type": "code",
      "source": [
        "pattern = r\"'(https?://[^']*)'\"\n",
        "\n",
        "def extract_urls(string):\n",
        "    urls = re.findall(pattern, string)\n",
        "    return urls\n",
        "\n",
        "# Apply the function to extract URLs and replace the 'Image' column\n",
        "df['Image'] = df['Image'].apply(extract_urls)\n",
        "\n",
        "# Print the DataFrame with the updated 'Image' column\n"
      ],
      "metadata": {
        "id": "HCJYAjFsHvvu"
      },
      "execution_count": 150,
      "outputs": []
    },
    {
      "cell_type": "code",
      "source": [
        "df = df.explode('Image')\n",
        "df.reset_index(drop=True, inplace=True)"
      ],
      "metadata": {
        "id": "6fytB7tyzmp0"
      },
      "execution_count": 151,
      "outputs": []
    },
    {
      "cell_type": "code",
      "source": [
        "df['Image'].shape\n",
        "df.loc[1,'Image']"
      ],
      "metadata": {
        "colab": {
          "base_uri": "https://localhost:8080/",
          "height": 35
        },
        "id": "2BLL4JcH5xQR",
        "outputId": "6bb637f9-42a8-4e0c-b605-10f0e5d2c8c3"
      },
      "execution_count": 152,
      "outputs": [
        {
          "output_type": "execute_result",
          "data": {
            "text/plain": [
              "'https://images-na.ssl-images-amazon.com/images/I/71HSx4Y-5dL._SY88.jpg'"
            ],
            "application/vnd.google.colaboratory.intrinsic+json": {
              "type": "string"
            }
          },
          "metadata": {},
          "execution_count": 152
        }
      ]
    },
    {
      "cell_type": "code",
      "source": [
        "import pandas as pd\n",
        "import requests\n",
        "from io import BytesIO\n",
        "from PIL import Image\n",
        "\n",
        "# Function to download image from URL and return bytes\n",
        "def download_image(url):\n",
        "    response = requests.get(url)\n",
        "    img_bytes = BytesIO(response.content)\n",
        "    return img_bytes\n",
        "\n",
        "# Function to load image from URL and return PIL Image object\n",
        "def load_image(url):\n",
        "  try:\n",
        "      img_bytes = download_image(url)\n",
        "      img = Image.open(img_bytes)\n",
        "      return img\n",
        "  except Exception as e:\n",
        "        print(f\"Error loading image from URL {url}: {e}\")\n",
        "        return None"
      ],
      "metadata": {
        "id": "R5H_Bl-mHOuG"
      },
      "execution_count": 153,
      "outputs": []
    },
    {
      "cell_type": "code",
      "source": [
        "\n",
        "# Function to load images from list of URLs\n",
        "def load_images_from_urls(url_list):\n",
        "    return load_image(url_list)\n",
        "    #return [load_image(url) for url in url_list]\n",
        "\n",
        "# Apply the function to load images and create a new column in the DataFrame\n",
        "df['Loaded_Images'] = df['Image'].apply(load_images_from_urls)\n",
        "\n",
        "# Print the DataFrame with the loaded images column\n",
        "print(df)\n",
        "with open('/content/images.pkl', 'wb') as f:\n",
        "    pickle.dump(df['Loaded_Images'], f)"
      ],
      "metadata": {
        "colab": {
          "base_uri": "https://localhost:8080/"
        },
        "id": "whdVMzqzJCPW",
        "outputId": "c3ce7a7f-ae26-4da7-ecd6-094e0d03a2f5"
      },
      "execution_count": 154,
      "outputs": [
        {
          "output_type": "stream",
          "name": "stdout",
          "text": [
            "Error loading image from URL https://images-na.ssl-images-amazon.com/images/I/71F3npeHUDL._SY88.jpg: cannot identify image file <_io.BytesIO object at 0x7ed62cbde1b0>\n",
            "Error loading image from URL https://images-na.ssl-images-amazon.com/images/I/71wHUWncMGL._SY88.jpg: cannot identify image file <_io.BytesIO object at 0x7ed62d580130>\n",
            "Error loading image from URL https://images-na.ssl-images-amazon.com/images/I/71B8OOE5N8L._SY88.jpg: cannot identify image file <_io.BytesIO object at 0x7ed62d704130>\n",
            "Error loading image from URL https://images-na.ssl-images-amazon.com/images/I/81SX3oAWbNL._SY88.jpg: cannot identify image file <_io.BytesIO object at 0x7ed62d705c60>\n",
            "Error loading image from URL https://images-na.ssl-images-amazon.com/images/I/718niQ1GEwL._SY88.jpg: cannot identify image file <_io.BytesIO object at 0x7ed62cea53a0>\n",
            "Error loading image from URL https://images-na.ssl-images-amazon.com/images/I/61OboZT-kcL._SY88.jpg: cannot identify image file <_io.BytesIO object at 0x7ed61e5c4400>\n",
            "Error loading image from URL https://images-na.ssl-images-amazon.com/images/I/710a2Pyh5lL._SY88.jpg: cannot identify image file <_io.BytesIO object at 0x7ed61e4a43b0>\n",
            "Error loading image from URL https://images-na.ssl-images-amazon.com/images/I/816NMd0LexL._SY88.jpg: cannot identify image file <_io.BytesIO object at 0x7ed61e4353a0>\n",
            "      product id                                              Image  \\\n",
            "0           3452  https://images-na.ssl-images-amazon.com/images...   \n",
            "1           1205  https://images-na.ssl-images-amazon.com/images...   \n",
            "2           1205  https://images-na.ssl-images-amazon.com/images...   \n",
            "3           1205  https://images-na.ssl-images-amazon.com/images...   \n",
            "4           1708  https://images-na.ssl-images-amazon.com/images...   \n",
            "...          ...                                                ...   \n",
            "1643        1882  https://images-na.ssl-images-amazon.com/images...   \n",
            "1644        1547  https://images-na.ssl-images-amazon.com/images...   \n",
            "1645        1547  https://images-na.ssl-images-amazon.com/images...   \n",
            "1646        1004  https://images-na.ssl-images-amazon.com/images...   \n",
            "1647        1306  https://images-na.ssl-images-amazon.com/images...   \n",
            "\n",
            "                                            Review Text  \\\n",
            "0     Loving these vintage springs on my vintage str...   \n",
            "1     Works great as a guitar bench mat. Not rugged ...   \n",
            "2     Works great as a guitar bench mat. Not rugged ...   \n",
            "3     Works great as a guitar bench mat. Not rugged ...   \n",
            "4     We use these for everything from our acoustic ...   \n",
            "...                                                 ...   \n",
            "1643  This is a great stereo reverb with plenty of c...   \n",
            "1644  I really like the simplicity of this bridge. I...   \n",
            "1645  I really like the simplicity of this bridge. I...   \n",
            "1646  Great Product, but there is no warranty in the...   \n",
            "1647  This product is good and is used in profession...   \n",
            "\n",
            "                                          Loaded_Images  \n",
            "0     <PIL.JpegImagePlugin.JpegImageFile image mode=...  \n",
            "1     <PIL.JpegImagePlugin.JpegImageFile image mode=...  \n",
            "2     <PIL.JpegImagePlugin.JpegImageFile image mode=...  \n",
            "3     <PIL.JpegImagePlugin.JpegImageFile image mode=...  \n",
            "4     <PIL.JpegImagePlugin.JpegImageFile image mode=...  \n",
            "...                                                 ...  \n",
            "1643  <PIL.JpegImagePlugin.JpegImageFile image mode=...  \n",
            "1644  <PIL.JpegImagePlugin.JpegImageFile image mode=...  \n",
            "1645  <PIL.JpegImagePlugin.JpegImageFile image mode=...  \n",
            "1646  <PIL.JpegImagePlugin.JpegImageFile image mode=...  \n",
            "1647  <PIL.JpegImagePlugin.JpegImageFile image mode=...  \n",
            "\n",
            "[1648 rows x 4 columns]\n"
          ]
        }
      ]
    },
    {
      "cell_type": "code",
      "source": [
        "with open('/content/images.pkl', 'rb') as f:\n",
        "    data = pickle.load(f)\n",
        "    df['Loaded_Images'] = data"
      ],
      "metadata": {
        "id": "8pvO3Lly-iuy"
      },
      "execution_count": 155,
      "outputs": []
    },
    {
      "cell_type": "code",
      "source": [
        "from PIL import ImageEnhance\n",
        "# preprocess images\n",
        "def preprocess_image(img):\n",
        "  preprocessed_images = []\n",
        "  if img is not None:\n",
        "    enhancer = ImageEnhance.Brightness(img)\n",
        "    img = enhancer.enhance(1.2)\n",
        "    img = img.resize((100, 100))\n",
        "    # Convert image to grayscale\n",
        "    #img = img.convert('L')\n",
        "    preprocessed_images.append(img)\n",
        "  return preprocessed_images\n",
        "\n",
        "df['Loaded_Images'] = df['Loaded_Images'].apply(preprocess_image)"
      ],
      "metadata": {
        "id": "dMZJozSOJ9Ua"
      },
      "execution_count": 156,
      "outputs": []
    },
    {
      "cell_type": "code",
      "source": [
        "df.loc[0,'Loaded_Images']"
      ],
      "metadata": {
        "id": "qsihsjwhwtAi",
        "colab": {
          "base_uri": "https://localhost:8080/"
        },
        "outputId": "8e1565f1-42d2-42d8-f7cc-00161982d4ea"
      },
      "execution_count": 157,
      "outputs": [
        {
          "output_type": "execute_result",
          "data": {
            "text/plain": [
              "[<PIL.Image.Image image mode=RGB size=100x100>]"
            ]
          },
          "metadata": {},
          "execution_count": 157
        }
      ]
    },
    {
      "cell_type": "code",
      "source": [
        "for i in range(1,100):\n",
        "  print(df.loc[i,\"Loaded_Images\"])"
      ],
      "metadata": {
        "colab": {
          "base_uri": "https://localhost:8080/"
        },
        "id": "DNIddsd68AsO",
        "outputId": "f5428861-a92d-48f9-b215-0b0572349090"
      },
      "execution_count": 158,
      "outputs": [
        {
          "output_type": "stream",
          "name": "stdout",
          "text": [
            "[<PIL.Image.Image image mode=RGB size=100x100 at 0x7ED62C0DD240>]\n",
            "[<PIL.Image.Image image mode=RGB size=100x100 at 0x7ED62C0DC040>]\n",
            "[<PIL.Image.Image image mode=RGB size=100x100 at 0x7ED62C0DDC30>]\n",
            "[<PIL.Image.Image image mode=RGB size=100x100 at 0x7ED62C0DE6E0>]\n",
            "[<PIL.Image.Image image mode=RGB size=100x100 at 0x7ED62C0DEB30>]\n",
            "[<PIL.Image.Image image mode=RGB size=100x100 at 0x7ED62C0DF850>]\n",
            "[<PIL.Image.Image image mode=RGB size=100x100 at 0x7ED62C0DF820>]\n",
            "[<PIL.Image.Image image mode=RGB size=100x100 at 0x7ED62C0DD1B0>]\n",
            "[<PIL.Image.Image image mode=RGB size=100x100 at 0x7ED62C0DFE50>]\n",
            "[<PIL.Image.Image image mode=RGB size=100x100 at 0x7ED62C0DF8B0>]\n",
            "[<PIL.Image.Image image mode=RGB size=100x100 at 0x7ED62C0DEEC0>]\n",
            "[<PIL.Image.Image image mode=RGB size=100x100 at 0x7ED62C0DEDA0>]\n",
            "[<PIL.Image.Image image mode=RGB size=100x100 at 0x7ED62C0DF160>]\n",
            "[<PIL.Image.Image image mode=RGB size=100x100 at 0x7ED62C0DC280>]\n",
            "[<PIL.Image.Image image mode=RGB size=100x100 at 0x7ED62C0DC850>]\n",
            "[<PIL.Image.Image image mode=RGB size=100x100 at 0x7ED62C0DC4F0>]\n",
            "[<PIL.Image.Image image mode=RGB size=100x100 at 0x7ED62C0DCBB0>]\n",
            "[<PIL.Image.Image image mode=RGB size=100x100 at 0x7ED62C0DF280>]\n",
            "[<PIL.Image.Image image mode=RGB size=100x100 at 0x7ED62C0DC6D0>]\n",
            "[<PIL.Image.Image image mode=RGB size=100x100 at 0x7ED62C0DD4B0>]\n",
            "[<PIL.Image.Image image mode=RGB size=100x100 at 0x7ED62C0DFEE0>]\n",
            "[<PIL.Image.Image image mode=RGB size=100x100 at 0x7ED62C0DDB10>]\n",
            "[<PIL.Image.Image image mode=RGB size=100x100 at 0x7ED62C0DD9F0>]\n",
            "[<PIL.Image.Image image mode=RGB size=100x100 at 0x7ED62C0DDC90>]\n",
            "[<PIL.Image.Image image mode=RGB size=100x100 at 0x7ED62C0DCC40>]\n",
            "[<PIL.Image.Image image mode=RGB size=100x100 at 0x7ED62C0DF490>]\n",
            "[<PIL.Image.Image image mode=RGB size=100x100 at 0x7ED62C0DFA00>]\n",
            "[<PIL.Image.Image image mode=RGB size=100x100 at 0x7ED62C0DE290>]\n",
            "[<PIL.Image.Image image mode=RGB size=100x100 at 0x7ED62C0DDF60>]\n",
            "[<PIL.Image.Image image mode=RGB size=100x100 at 0x7ED62C0DF7C0>]\n",
            "[<PIL.Image.Image image mode=RGB size=100x100 at 0x7ED62C0DFC40>]\n",
            "[<PIL.Image.Image image mode=RGB size=100x100 at 0x7ED62C0DD8A0>]\n",
            "[<PIL.Image.Image image mode=RGB size=100x100 at 0x7ED62C0DEC20>]\n",
            "[<PIL.Image.Image image mode=RGB size=100x100 at 0x7ED62C0DDA80>]\n",
            "[<PIL.Image.Image image mode=RGB size=100x100 at 0x7ED62C0DDD50>]\n",
            "[<PIL.Image.Image image mode=RGB size=100x100 at 0x7ED62C0DD960>]\n",
            "[<PIL.Image.Image image mode=RGB size=100x100 at 0x7ED62C0DE920>]\n",
            "[<PIL.Image.Image image mode=RGB size=100x100 at 0x7ED62C0DF430>]\n",
            "[<PIL.Image.Image image mode=RGB size=100x100 at 0x7ED62C0DF4F0>]\n",
            "[<PIL.Image.Image image mode=RGB size=100x100 at 0x7ED62C0DFD00>]\n",
            "[<PIL.Image.Image image mode=RGB size=100x100 at 0x7ED62C0DE9B0>]\n",
            "[<PIL.Image.Image image mode=RGB size=100x100 at 0x7ED62C0DCDF0>]\n",
            "[<PIL.Image.Image image mode=RGB size=100x100 at 0x7ED62C0DE680>]\n",
            "[<PIL.Image.Image image mode=RGB size=100x100 at 0x7ED62C0DF910>]\n",
            "[<PIL.Image.Image image mode=RGB size=100x100 at 0x7ED62C0DED40>]\n",
            "[<PIL.Image.Image image mode=RGB size=100x100 at 0x7ED62C0DFB20>]\n",
            "[<PIL.Image.Image image mode=RGB size=100x100 at 0x7ED62C0DE3E0>]\n",
            "[<PIL.Image.Image image mode=RGB size=100x100 at 0x7ED62C0DCB20>]\n",
            "[<PIL.Image.Image image mode=RGB size=100x100 at 0x7ED62C0DFFD0>]\n",
            "[<PIL.Image.Image image mode=RGB size=100x100 at 0x7ED62C0DC670>]\n",
            "[<PIL.Image.Image image mode=RGB size=100x100 at 0x7ED62C0DCF10>]\n",
            "[<PIL.Image.Image image mode=RGB size=100x100 at 0x7ED62C0DD720>]\n",
            "[<PIL.Image.Image image mode=RGB size=100x100 at 0x7ED62C0DC430>]\n",
            "[<PIL.Image.Image image mode=RGB size=100x100 at 0x7ED62C0DD870>]\n",
            "[<PIL.Image.Image image mode=RGB size=100x100 at 0x7ED62C0DC100>]\n",
            "[<PIL.Image.Image image mode=RGB size=100x100 at 0x7ED62C0DE6B0>]\n",
            "[<PIL.Image.Image image mode=RGB size=100x100 at 0x7ED62C0DD600>]\n",
            "[<PIL.Image.Image image mode=RGB size=100x100 at 0x7ED62C0DC7F0>]\n",
            "[<PIL.Image.Image image mode=RGB size=100x100 at 0x7ED62C0DDBA0>]\n",
            "[<PIL.Image.Image image mode=RGB size=100x100 at 0x7ED62C0DCF70>]\n",
            "[<PIL.Image.Image image mode=RGB size=100x100 at 0x7ED62C0DF8E0>]\n",
            "[<PIL.Image.Image image mode=RGB size=100x100 at 0x7ED62C0DF610>]\n",
            "[<PIL.Image.Image image mode=RGB size=100x100 at 0x7ED62C0DDF00>]\n",
            "[<PIL.Image.Image image mode=RGB size=100x100 at 0x7ED62C0DEA70>]\n",
            "[<PIL.Image.Image image mode=RGB size=100x100 at 0x7ED62C0DFDF0>]\n",
            "[<PIL.Image.Image image mode=RGB size=100x100 at 0x7ED62C0DC550>]\n",
            "[<PIL.Image.Image image mode=RGB size=100x100 at 0x7ED62C0DFC70>]\n",
            "[<PIL.Image.Image image mode=RGB size=100x100 at 0x7ED62C0DE320>]\n",
            "[<PIL.Image.Image image mode=RGB size=100x100 at 0x7ED62C0DCA60>]\n",
            "[<PIL.Image.Image image mode=RGB size=100x100 at 0x7ED62C0DD330>]\n",
            "[<PIL.Image.Image image mode=RGB size=100x100 at 0x7ED62C0DC250>]\n",
            "[<PIL.Image.Image image mode=RGB size=100x100 at 0x7ED62C0DEFE0>]\n",
            "[<PIL.Image.Image image mode=RGB size=100x100 at 0x7ED62C0DC370>]\n",
            "[<PIL.Image.Image image mode=RGB size=100x100 at 0x7ED62C0DE560>]\n",
            "[<PIL.Image.Image image mode=RGB size=100x100 at 0x7ED62C0DC310>]\n",
            "[<PIL.Image.Image image mode=RGB size=100x100 at 0x7ED62C0DC0D0>]\n",
            "[<PIL.Image.Image image mode=RGB size=100x100 at 0x7ED62C0DE7D0>]\n",
            "[<PIL.Image.Image image mode=RGB size=100x100 at 0x7ED62C0DDED0>]\n",
            "[<PIL.Image.Image image mode=RGB size=100x100 at 0x7ED62C0DF3A0>]\n",
            "[<PIL.Image.Image image mode=RGB size=100x100 at 0x7ED62C0DE830>]\n",
            "[<PIL.Image.Image image mode=RGB size=100x100 at 0x7ED62C0DDAB0>]\n",
            "[<PIL.Image.Image image mode=RGB size=100x100 at 0x7ED62C0DE110>]\n",
            "[<PIL.Image.Image image mode=RGB size=100x100 at 0x7ED62C0DCD60>]\n",
            "[<PIL.Image.Image image mode=RGB size=100x100 at 0x7ED62C0DC7C0>]\n",
            "[<PIL.Image.Image image mode=RGB size=100x100 at 0x7ED62C0DD030>]\n",
            "[<PIL.Image.Image image mode=RGB size=100x100 at 0x7ED62C0DFEB0>]\n",
            "[<PIL.Image.Image image mode=RGB size=100x100 at 0x7ED62C0DC640>]\n",
            "[<PIL.Image.Image image mode=RGB size=100x100 at 0x7ED62C0DD5A0>]\n",
            "[<PIL.Image.Image image mode=RGB size=100x100 at 0x7ED62C0DE0B0>]\n",
            "[<PIL.Image.Image image mode=RGB size=100x100 at 0x7ED62C0DDDE0>]\n",
            "[<PIL.Image.Image image mode=RGB size=100x100 at 0x7ED62C0DE410>]\n",
            "[<PIL.Image.Image image mode=RGB size=100x100 at 0x7ED62C0DE4D0>]\n",
            "[<PIL.Image.Image image mode=RGB size=100x100 at 0x7ED62C0DC910>]\n",
            "[<PIL.Image.Image image mode=RGB size=100x100 at 0x7ED62C0DCA00>]\n",
            "[<PIL.Image.Image image mode=RGB size=100x100 at 0x7ED62C0DCDC0>]\n",
            "[<PIL.Image.Image image mode=RGB size=100x100 at 0x7ED62C0DD060>]\n",
            "[<PIL.Image.Image image mode=RGB size=100x100 at 0x7ED62C0DD810>]\n",
            "[<PIL.Image.Image image mode=RGB size=100x100 at 0x7ED62C0DDF90>]\n",
            "[<PIL.Image.Image image mode=RGB size=100x100 at 0x7ED62C0DFA60>]\n"
          ]
        }
      ]
    },
    {
      "cell_type": "code",
      "source": [
        "from tensorflow.keras.applications import VGG16\n",
        "from tensorflow.keras.applications.vgg16 import preprocess_input\n",
        "from tensorflow.keras.preprocessing import image\n",
        "import numpy as np\n",
        "\n",
        "# Ensure the VGG16 model is loaded before calling the function\n",
        "vgg_model = VGG16(weights='imagenet', include_top=False)\n",
        "\n",
        "# Function to extract features using VGG16 model\n",
        "def extract_features_vgg(images):\n",
        "    features_list = []\n",
        "    for img in images:\n",
        "        if img is not None:\n",
        "            print(img)\n",
        "            img = img.resize((100, 100))\n",
        "            x = image.img_to_array(img)\n",
        "            x = np.expand_dims(x, axis=0)\n",
        "            # Preprocess the image using VGG16 preprocessing function\n",
        "            x = preprocess_input(x)\n",
        "            features = vgg_model.predict(x)\n",
        "            # Normalize features\n",
        "            features_normalized = features / np.linalg.norm(features)\n",
        "            features_list.append(features_normalized.flatten())\n",
        "    return features_list\n",
        "\n",
        "# Apply the function to extract features using VGG16 and create a new column in the DataFrame\n",
        "df['VGG16_Features'] = df['Loaded_Images'].apply(extract_features_vgg)\n",
        "\n",
        "# Print the DataFrame with the extracted VGG16 features column\n",
        "print(df)"
      ],
      "metadata": {
        "colab": {
          "base_uri": "https://localhost:8080/"
        },
        "id": "eaSKt97XxMyY",
        "outputId": "ef0d424b-a4db-4ed4-9a55-11fdcfe7e94e"
      },
      "execution_count": 159,
      "outputs": [
        {
          "output_type": "stream",
          "name": "stdout",
          "text": [
            "<PIL.Image.Image image mode=RGB size=100x100 at 0x7ED62C13A650>\n",
            "1/1 [==============================] - 0s 239ms/step\n",
            "<PIL.Image.Image image mode=RGB size=100x100 at 0x7ED62C138280>\n",
            "1/1 [==============================] - 0s 227ms/step\n",
            "<PIL.Image.Image image mode=RGB size=100x100 at 0x7ED62C138670>\n",
            "1/1 [==============================] - 0s 140ms/step\n",
            "<PIL.Image.Image image mode=RGB size=100x100 at 0x7ED62C13A290>\n",
            "1/1 [==============================] - 0s 141ms/step\n",
            "<PIL.Image.Image image mode=RGB size=100x100 at 0x7ED62C13B490>\n",
            "1/1 [==============================] - 0s 130ms/step\n",
            "<PIL.Image.Image image mode=RGB size=100x100 at 0x7ED62C139840>\n",
            "1/1 [==============================] - 0s 144ms/step\n",
            "<PIL.Image.Image image mode=RGB size=100x100 at 0x7ED62C138B20>\n",
            "1/1 [==============================] - 0s 125ms/step\n",
            "<PIL.Image.Image image mode=RGB size=100x100 at 0x7ED62C139570>\n",
            "1/1 [==============================] - 0s 129ms/step\n",
            "<PIL.Image.Image image mode=RGB size=100x100 at 0x7ED62C1384F0>\n",
            "1/1 [==============================] - 0s 134ms/step\n",
            "<PIL.Image.Image image mode=RGB size=100x100 at 0x7ED62C13BEE0>\n",
            "1/1 [==============================] - 0s 147ms/step\n",
            "<PIL.Image.Image image mode=RGB size=100x100 at 0x7ED62C139C60>\n",
            "1/1 [==============================] - 0s 134ms/step\n",
            "<PIL.Image.Image image mode=RGB size=100x100 at 0x7ED62C13B370>\n",
            "1/1 [==============================] - 0s 125ms/step\n",
            "<PIL.Image.Image image mode=RGB size=100x100 at 0x7ED62C138C40>\n",
            "1/1 [==============================] - 0s 132ms/step\n",
            "<PIL.Image.Image image mode=RGB size=100x100 at 0x7ED62C13B700>\n",
            "1/1 [==============================] - 0s 133ms/step\n",
            "<PIL.Image.Image image mode=RGB size=100x100 at 0x7ED62C139660>\n",
            "1/1 [==============================] - 0s 144ms/step\n",
            "<PIL.Image.Image image mode=RGB size=100x100 at 0x7ED62C139FC0>\n",
            "1/1 [==============================] - 0s 137ms/step\n",
            "<PIL.Image.Image image mode=RGB size=100x100 at 0x7ED62C138D00>\n",
            "1/1 [==============================] - 0s 137ms/step\n",
            "      product id                                              Image  \\\n",
            "0           3452  https://images-na.ssl-images-amazon.com/images...   \n",
            "1           1205  https://images-na.ssl-images-amazon.com/images...   \n",
            "2           1205  https://images-na.ssl-images-amazon.com/images...   \n",
            "3           1205  https://images-na.ssl-images-amazon.com/images...   \n",
            "4           1708  https://images-na.ssl-images-amazon.com/images...   \n",
            "...          ...                                                ...   \n",
            "1643        1882  https://images-na.ssl-images-amazon.com/images...   \n",
            "1644        1547  https://images-na.ssl-images-amazon.com/images...   \n",
            "1645        1547  https://images-na.ssl-images-amazon.com/images...   \n",
            "1646        1004  https://images-na.ssl-images-amazon.com/images...   \n",
            "1647        1306  https://images-na.ssl-images-amazon.com/images...   \n",
            "\n",
            "                                            Review Text  \\\n",
            "0     Loving these vintage springs on my vintage str...   \n",
            "1     Works great as a guitar bench mat. Not rugged ...   \n",
            "2     Works great as a guitar bench mat. Not rugged ...   \n",
            "3     Works great as a guitar bench mat. Not rugged ...   \n",
            "4     We use these for everything from our acoustic ...   \n",
            "...                                                 ...   \n",
            "1643  This is a great stereo reverb with plenty of c...   \n",
            "1644  I really like the simplicity of this bridge. I...   \n",
            "1645  I really like the simplicity of this bridge. I...   \n",
            "1646  Great Product, but there is no warranty in the...   \n",
            "1647  This product is good and is used in profession...   \n",
            "\n",
            "                                          Loaded_Images  \\\n",
            "0     [<PIL.Image.Image image mode=RGB size=100x100 ...   \n",
            "1     [<PIL.Image.Image image mode=RGB size=100x100 ...   \n",
            "2     [<PIL.Image.Image image mode=RGB size=100x100 ...   \n",
            "3     [<PIL.Image.Image image mode=RGB size=100x100 ...   \n",
            "4     [<PIL.Image.Image image mode=RGB size=100x100 ...   \n",
            "...                                                 ...   \n",
            "1643  [<PIL.Image.Image image mode=RGB size=100x100 ...   \n",
            "1644  [<PIL.Image.Image image mode=RGB size=100x100 ...   \n",
            "1645  [<PIL.Image.Image image mode=RGB size=100x100 ...   \n",
            "1646  [<PIL.Image.Image image mode=RGB size=100x100 ...   \n",
            "1647  [<PIL.Image.Image image mode=RGB size=100x100 ...   \n",
            "\n",
            "                                         VGG16_Features  \n",
            "0     [[0.006017786, 0.0, 0.021199903, 0.0, 0.044976...  \n",
            "1     [[0.0, 0.0, 0.0, 0.0, 0.0, 0.0, 0.0, 0.0, 0.0,...  \n",
            "2     [[0.0, 0.0, 0.0, 0.0, 0.0, 0.041683078, 0.0, 0...  \n",
            "3     [[0.0, 0.01848924, 0.0, 0.0, 0.0, 0.0, 0.0, 0....  \n",
            "4     [[0.0, 0.0, 0.0, 0.0, 0.0, 0.011270101, 0.0, 0...  \n",
            "...                                                 ...  \n",
            "1643  [[0.0, 0.0, 0.0, 0.0, 0.0, 0.0, 0.027389059, 0...  \n",
            "1644  [[0.0, 0.0, 0.0, 0.0, 0.0, 0.0073950035, 0.0, ...  \n",
            "1645  [[0.0, 0.0, 0.0, 0.0, 0.0, 0.0, 0.0, 0.0, 0.0,...  \n",
            "1646  [[0.0, 0.0, 0.0, 0.0, 0.0, 0.0, 0.012410461, 0...  \n",
            "1647  [[0.0, 0.0, 0.0, 0.0, 0.0, 0.0, 0.0, 0.0, 0.0,...  \n",
            "\n",
            "[1648 rows x 5 columns]\n"
          ]
        }
      ]
    },
    {
      "cell_type": "code",
      "source": [
        "import pickle\n",
        "with open('/content/extracted_features.pkl', 'wb') as f:\n",
        "    pickle.dump(df['VGG16_Features'], f)"
      ],
      "metadata": {
        "id": "SG2P1IrI_l3I"
      },
      "execution_count": 160,
      "outputs": []
    },
    {
      "cell_type": "code",
      "source": [
        "with open('/content/extracted_features.pkl', 'rb') as f:\n",
        "    data = pickle.load(f)\n",
        "    df['VGG16_Features'] = data"
      ],
      "metadata": {
        "id": "aS8JSLwN_09j"
      },
      "execution_count": 161,
      "outputs": []
    },
    {
      "cell_type": "code",
      "source": [
        "input_url = input(\"Enter the image url: \")\n",
        "image = load_image(input_url)\n",
        "image = preprocess_image(image)\n",
        "image\n",
        "# https://images-na.ssl-images-amazon.com/images/I/61Yuwnt9eoL._SY88.jpg"
      ],
      "metadata": {
        "colab": {
          "base_uri": "https://localhost:8080/"
        },
        "id": "Xv1Sqo_VAC5_",
        "outputId": "acf037f8-3050-4b4d-aa2a-89816d2b928c"
      },
      "execution_count": 162,
      "outputs": [
        {
          "name": "stdout",
          "output_type": "stream",
          "text": [
            "Enter the image url: https://images-na.ssl-images-amazon.com/images/I/61Yuwnt9eoL._SY88.jpg\n"
          ]
        },
        {
          "output_type": "execute_result",
          "data": {
            "text/plain": [
              "[<PIL.Image.Image image mode=RGB size=100x100>]"
            ]
          },
          "metadata": {},
          "execution_count": 162
        }
      ]
    },
    {
      "cell_type": "code",
      "source": [
        "from keras.preprocessing.image import img_to_array\n",
        "\n",
        "\n",
        "image = image[0].resize((100, 100))  # Resize image to VGG16 input size\n",
        "x = img_to_array(image)\n",
        "x = np.expand_dims(x, axis=0)\n",
        "x = preprocess_input(x)\n",
        "features = vgg_model.predict(x)\n",
        "features_normalized = features / np.linalg.norm(features)"
      ],
      "metadata": {
        "colab": {
          "base_uri": "https://localhost:8080/"
        },
        "id": "0wHwv4oiHbOe",
        "outputId": "21ec9517-ad2e-40bd-8b1b-96bab60e0ea1"
      },
      "execution_count": 163,
      "outputs": [
        {
          "output_type": "stream",
          "name": "stdout",
          "text": [
            "1/1 [==============================] - 0s 134ms/step\n"
          ]
        }
      ]
    },
    {
      "cell_type": "code",
      "source": [
        "# reviews pre process - from assi 1\n",
        "import pandas as pd\n",
        "import nltk\n",
        "from nltk.tokenize import word_tokenize\n",
        "from nltk.corpus import stopwords\n",
        "import string\n",
        "from sklearn.feature_extraction.text import TfidfVectorizer\n",
        "from sklearn.preprocessing import normalize\n",
        "import pickle\n",
        "nltk.download('punkt')\n",
        "nltk.download('stopwords')\n",
        "\n",
        "def preprocess_text(content):\n",
        "    if isinstance(content, str):\n",
        "        content = content.lower()\n",
        "        tokens = word_tokenize(content)\n",
        "        stop_words = set(stopwords.words('english'))\n",
        "        tokens = [token for token in tokens if token not in stop_words]\n",
        "        tokens = [token for token in tokens if token.strip() != '']\n",
        "        text = ' '.join(tokens)\n",
        "        text = text.translate(str.maketrans('', '', string.punctuation))\n",
        "\n",
        "        return text\n",
        "    else:\n",
        "        print(content)\n",
        "        return ''\n",
        "\n",
        "# Apply text pre-processing\n",
        "df['Processed Review'] = df['Review Text'].apply(preprocess_text)"
      ],
      "metadata": {
        "colab": {
          "base_uri": "https://localhost:8080/"
        },
        "id": "FkeCKS94lPtJ",
        "outputId": "e4adbc3b-3ebc-4261-9b27-2c50e8a5ded5"
      },
      "execution_count": 164,
      "outputs": [
        {
          "output_type": "stream",
          "name": "stderr",
          "text": [
            "[nltk_data] Downloading package punkt to /root/nltk_data...\n",
            "[nltk_data]   Package punkt is already up-to-date!\n",
            "[nltk_data] Downloading package stopwords to /root/nltk_data...\n",
            "[nltk_data]   Package stopwords is already up-to-date!\n"
          ]
        },
        {
          "output_type": "stream",
          "name": "stdout",
          "text": [
            "nan\n"
          ]
        }
      ]
    },
    {
      "cell_type": "code",
      "source": [
        "# TF - IDF scores\n",
        "from collections import Counter\n",
        "import math\n",
        "\n",
        "def calculate_term_frequency(review):\n",
        "    term_freq = {}\n",
        "    if review is None:\n",
        "        return None\n",
        "\n",
        "    count_words = len(review)\n",
        "    word_frequency = Counter(review)\n",
        "\n",
        "    for word, freq in word_frequency.items():\n",
        "        term_freq[word] = freq / count_words\n",
        "\n",
        "    return term_freq\n",
        "\n",
        "def calculate_inverse_document_frequency(corpus):\n",
        "    total_documents = len(corpus)\n",
        "    inverse_doc_freq = {}\n",
        "    word_doc_freq = {}\n",
        "\n",
        "    for document in corpus:\n",
        "        if document is None:\n",
        "            continue\n",
        "\n",
        "        unique_words = set(document)\n",
        "\n",
        "        for word in unique_words:\n",
        "            word_doc_freq[word] = word_doc_freq.get(word, 0) + 1\n",
        "\n",
        "    for word, freq in word_doc_freq.items():\n",
        "        inverse_doc_freq[word] = math.log(total_documents / freq)\n",
        "\n",
        "    return inverse_doc_freq\n",
        "\n",
        "def calculate_tfidf(term_freq_dict, inverse_doc_freq_dict):\n",
        "    if not term_freq_dict:\n",
        "        return {}\n",
        "\n",
        "    tfidf_scores = {}\n",
        "\n",
        "    for word, tf in term_freq_dict.items():\n",
        "        tfidf_scores[word] = tf * inverse_doc_freq_dict.get(word, 0)\n",
        "\n",
        "    return tfidf_scores"
      ],
      "metadata": {
        "id": "NDFgTQdojLx_"
      },
      "execution_count": 165,
      "outputs": []
    },
    {
      "cell_type": "code",
      "source": [
        "df['TF'] = df['Processed Review'].apply(calculate_term_frequency)\n",
        "c = df['Processed Review'].tolist()\n",
        "idf = calculate_inverse_document_frequency(c)\n",
        "def calculate_tfidf_for_row(tf_row, idf_dict):\n",
        "    return calculate_tfidf(tf_row, idf_dict)\n",
        "df['TF-IDF'] = df['TF'].apply(calculate_tfidf_for_row, idf_dict=idf)\n",
        "\n",
        "with open('/content/tf-idf.pkl', 'wb') as f:\n",
        "    pickle.dump(df['TF-IDF'], f)"
      ],
      "metadata": {
        "id": "T3xcy7CgjSZb"
      },
      "execution_count": 166,
      "outputs": []
    },
    {
      "cell_type": "code",
      "source": [
        "from sklearn.metrics.pairwise import cosine_similarity\n",
        "\n",
        "\n",
        "flat_input_features = features_normalized.flatten()\n",
        "\n",
        "# Calculate cosine similarity between input features and each array in the DataFrame column\n",
        "cos_similarities = []\n",
        "\n",
        "# Store product IDs of images already considered\n",
        "\n",
        "for index, row in df.iterrows():\n",
        "    # Exclude images with the same product ID as the input image\n",
        "    # if row['product id'] == input_row.iloc[0]['product id']:\n",
        "    #     continue\n",
        "\n",
        "    resized_array = np.resize(row['VGG16_Features'], features_normalized.shape)\n",
        "    flat_array = resized_array.flatten()\n",
        "    cos_sim = cosine_similarity(flat_input_features.reshape(1, -1), flat_array.reshape(1, -1))\n",
        "    cos_similarities.append((index, cos_sim[0][0]))\n",
        "\n",
        "    # Add the product ID to the set of considered IDs\n",
        "\n",
        "# Sort similarity scores in descending order\n",
        "cos_similarities.sort(key=lambda x: x[1], reverse=True)\n",
        "\n",
        "# Retrieve top three most similar images\n",
        "top_three_similar_images = cos_similarities[:3]\n",
        "top_three_similar_images"
      ],
      "metadata": {
        "colab": {
          "base_uri": "https://localhost:8080/"
        },
        "id": "0TicLKFjHqBd",
        "outputId": "d61a0b66-5bfa-4c7c-bf50-ad9b5ccf3a0f"
      },
      "execution_count": 167,
      "outputs": [
        {
          "output_type": "execute_result",
          "data": {
            "text/plain": [
              "[(1636, 0.99999976), (1312, 0.35043144), (713, 0.27508634)]"
            ]
          },
          "metadata": {},
          "execution_count": 167
        }
      ]
    },
    {
      "cell_type": "code",
      "source": [
        "input_row = df[df['Image'] == input_url]\n",
        "\n",
        "if not input_row.empty:\n",
        "    product_id = input_row.iloc[0]['product id']\n",
        "    product_review = input_row.iloc[0]['Processed Review']\n",
        "    tfidf = input_row.iloc[0]['TF-IDF']\n",
        "    print(\"Product ID:\", product_id)\n",
        "else:\n",
        "    print(\"Image link not found in DataFrame.\")"
      ],
      "metadata": {
        "colab": {
          "base_uri": "https://localhost:8080/"
        },
        "id": "z7obOoZg0Z9j",
        "outputId": "be77337c-8ae5-477a-81b7-d6c97e1c1438"
      },
      "execution_count": 168,
      "outputs": [
        {
          "output_type": "stream",
          "name": "stdout",
          "text": [
            "Product ID: 216\n"
          ]
        }
      ]
    },
    {
      "cell_type": "code",
      "source": [
        "cosine_similarities_reviews = []\n",
        "for index, cosine_sim in top_three_similar_images:\n",
        "    tf_idf = df.loc[index, 'TF-IDF']\n",
        "    tf_idf_input = input_row.iloc[0]['TF-IDF']\n",
        "\n",
        "    vocabulary = set(tf_idf.keys()) | set(tf_idf_input.keys())\n",
        "\n",
        "    tfidf_vector1 = np.array([tf_idf.get(word, 0) for word in vocabulary])\n",
        "    tfidf_vector2 = np.array([tf_idf_input.get(word, 0) for word in vocabulary])\n",
        "\n",
        "    cosine_sim_result = cosine_similarity([tfidf_vector1], [tfidf_vector2])  # Changed variable name here\n",
        "    cosine_similarities_reviews.append((index, cosine_sim_result[0][0]))  # Changed variable name here"
      ],
      "metadata": {
        "id": "f0bx4glrjhoN"
      },
      "execution_count": 169,
      "outputs": []
    },
    {
      "cell_type": "code",
      "source": [
        "i = 0\n",
        "for index, cosine_simalirity in top_three_similar_images:\n",
        "  print(\"Product Id:\",df.loc[index,\"product id\"])\n",
        "  print(\"Image Link:\",df.loc[index,\"Image\"] )\n",
        "  print(\"Product Review:\",df.loc[index,\"Review Text\"] )\n",
        "  print(\"Cosine Sim of Image:\",cosine_simalirity )\n",
        "  print(\"Cosine Sim of Review:\",cosine_similarities_reviews[i][1])\n",
        "  print(\"Composite Score:\", (cosine_simalirity+cosine_similarities_reviews[i][1])/2)\n",
        "  i+=1\n"
      ],
      "metadata": {
        "colab": {
          "base_uri": "https://localhost:8080/"
        },
        "id": "hAjS_SZAlc0W",
        "outputId": "3521a015-8b2a-4ede-a937-e83f4b4cf318"
      },
      "execution_count": 170,
      "outputs": [
        {
          "output_type": "stream",
          "name": "stdout",
          "text": [
            "Product Id: 216\n",
            "Image Link: https://images-na.ssl-images-amazon.com/images/I/61Yuwnt9eoL._SY88.jpg\n",
            "Product Review: These are not bad for the price and have a good feel to them weight wise. I would say beginner sticks for sure but once you get to be a better drummer and you are learning how to make different sounds with your kit like a rim shot. These will snap off fast. It didn't take too long for my son to snap the tip off doing a rim/head hit. if these are for a electric kit, I would give these a 5 star for that perpose\n",
            "Cosine Sim of Image: 0.99999976\n",
            "Cosine Sim of Review: 0.9999999999999999\n",
            "Composite Score: 0.9999998807907104\n",
            "Product Id: 2760\n",
            "Image Link: https://images-na.ssl-images-amazon.com/images/I/71J9ItBhxPL._SY88.jpg\n",
            "Product Review: Just what I needed, although at it's lowest setting, wass about an inch too tall for me sitting on the edge of my bed. Ive gotten used to it now so it's all good! Like others have said, it's good quality and sturdy construction. I stubbed my toe on it in The night, and quickly wished that hadn't happened! The rubber grip on top is actually riveted on, so that should last a good while. I also used this for when I practice standing up. I rest my foot on it which pushes the bottom of my guitars out so I can see what I'm doing. All in all its a good product and I recommend it. A word of warning, this is made of strong metal, if you're buying this for your son or daughter, show them the dangers of the scissoring action of the legs. I imagine they could do some hurtin to little fingers.\n",
            "Cosine Sim of Image: 0.35043144\n",
            "Cosine Sim of Review: 0.4400556530680091\n",
            "Composite Score: 0.39524354766437564\n",
            "Product Id: 1985\n",
            "Image Link: https://images-na.ssl-images-amazon.com/images/I/61+fZWPVVFL._SY88.jpg\n",
            "Product Review: Pretty simple perfect fit a little thicker than the original used it for a vintage modified 70s squire strat to give it an even more classic look. It was very easy to put on just watch a youtube video youll be fine. The black backplate adds a nice touch i have silver and black hardware so that worked out. I felt that the screws they gave me weren't as good as my originals. I did not use them. I think this product is a bit overpriced but thats probably because its laser etched. Adds a nice touch without seeming like you are trying to pass your guitar off for something more expensive. Here are some pictures.\n",
            "Cosine Sim of Image: 0.27508634\n",
            "Cosine Sim of Review: 0.39365160383072784\n",
            "Composite Score: 0.33436897355957473\n"
          ]
        }
      ]
    },
    {
      "cell_type": "code",
      "source": [
        "# input images review pre process , cosine sim of input image review and other reviews\n",
        "input_review = input(\"enter review: \")\n",
        "preprocessed_input_review = preprocess_text(input_review)\n",
        "row = df[df['Processed Review'].apply(lambda i: i == preprocessed_input_review)]\n",
        "\n",
        "if row.empty:\n",
        "  print(\"Image review not found in DataFrame.\")\n",
        "else:\n",
        "  id = row.iloc[0]['product id']\n",
        "  url = row.iloc[0]['Image']\n",
        "  tfidf = row.iloc[0]['TF-IDF']\n",
        "  input_features = row.iloc[0]['VGG16_Features']\n",
        "\n",
        "# We use these for everything from our acoustic bass down to our ukuleles. I know there is a smaller model available for ukes, violins, etc.; we haven't yet ordered those, but these will work on smaller instruments if one doesn't extend the feet to their maximum width. They're gentle on the instruments, and the grippy material keeps them secure.  The greatest benefit has been when writing music at the computer and needing to set a guitar down to use the keyboard/mouse - just easier for me than a hanging stand.  We have several and gave one to a friend for Christmas as well. I've used mine on stage, and it folds up small enough to fit right in my gig bag."
      ],
      "metadata": {
        "colab": {
          "base_uri": "https://localhost:8080/"
        },
        "id": "ulzSrzFDLJhm",
        "outputId": "4386497c-e250-4ecf-f4dc-ea1eaf92dd72"
      },
      "execution_count": 171,
      "outputs": [
        {
          "name": "stdout",
          "output_type": "stream",
          "text": [
            "enter review: We use these for everything from our acoustic bass down to our ukuleles. I know there is a smaller model available for ukes, violins, etc.; we haven't yet ordered those, but these will work on smaller instruments if one doesn't extend the feet to their maximum width. They're gentle on the instruments, and the grippy material keeps them secure.  The greatest benefit has been when writing music at the computer and needing to set a guitar down to use the keyboard/mouse - just easier for me than a hanging stand.  We have several and gave one to a friend for Christmas as well. I've used mine on stage, and it folds up small enough to fit right in my gig bag.\n"
          ]
        }
      ]
    },
    {
      "cell_type": "code",
      "source": [
        "from sklearn.metrics.pairwise import cosine_similarity\n",
        "\n",
        "cos_similarities = []\n",
        "\n",
        "# Store product IDs of images already considered\n",
        "considered_ids = set()\n",
        "considered_ids.add(id)\n",
        "\n",
        "for index, row in df.iterrows():\n",
        "    # Exclude images with the same product ID as the input image\n",
        "    if row['product id'] in considered_ids:\n",
        "        continue\n",
        "\n",
        "    considered_ids.add(row['product id'])\n",
        "\n",
        "    tfidf_dict1 = tfidf\n",
        "    tfidf_dict2 = row['TF-IDF']\n",
        "    vocabulary = set(tfidf_dict1.keys()) | set(tfidf_dict2.keys())\n",
        "\n",
        "    tfidf_vector1 = np.array([tfidf_dict1.get(word, 0) for word in vocabulary])\n",
        "    tfidf_vector2 = np.array([tfidf_dict2.get(word, 0) for word in vocabulary])\n",
        "\n",
        "    cosine_sim = cosine_similarity([tfidf_vector1], [tfidf_vector2])\n",
        "    cos_similarities.append((index, cosine_sim[0][0]))\n",
        "\n",
        "# Sort similarity scores in descending order\n",
        "cos_similarities.sort(key=lambda x: x[1], reverse=True)\n",
        "\n",
        "# Print top three similar reviews\n",
        "top_three_similar_reviews = cos_similarities[:3]\n",
        "print(top_three_similar_reviews)"
      ],
      "metadata": {
        "colab": {
          "base_uri": "https://localhost:8080/"
        },
        "id": "7FpQsqA8LW2v",
        "outputId": "dd2e62cc-1f14-4f09-88c1-f9a6eb69b510"
      },
      "execution_count": 172,
      "outputs": [
        {
          "output_type": "stream",
          "name": "stdout",
          "text": [
            "[(361, 0.9416968426657427), (1620, 0.939800774954963), (1004, 0.9356479145561)]\n"
          ]
        }
      ]
    },
    {
      "cell_type": "code",
      "source": [
        "cosine_similarities_images = []\n",
        "input_features = np.array(input_features)\n",
        "input_features = input_features.flatten()\n",
        "print(input_features)\n",
        "for index, cos_sim in top_three_similar_reviews:\n",
        "  resized_array = np.resize(df.loc[index,'VGG16_Features'], input_features.shape)\n",
        "  flat_array = resized_array.flatten()\n",
        "  cos_sim = cosine_similarity(input_features.reshape(1, -1), flat_array.reshape(1, -1))\n",
        "  cosine_similarities_images.append((index, cos_sim[0][0]))\n",
        "\n",
        "print(flat_array)\n",
        "print(cosine_similarities_images)"
      ],
      "metadata": {
        "colab": {
          "base_uri": "https://localhost:8080/"
        },
        "id": "pS1W9ZkfnoyF",
        "outputId": "79543a8a-7d67-4b09-8023-d2183a4e52fb"
      },
      "execution_count": 173,
      "outputs": [
        {
          "output_type": "stream",
          "name": "stdout",
          "text": [
            "[0. 0. 0. ... 0. 0. 0.]\n",
            "[0. 0. 0. ... 0. 0. 0.]\n",
            "[(361, 0.23372218), (1620, 0.17327593), (1004, 0.077374816)]\n"
          ]
        }
      ]
    },
    {
      "cell_type": "code",
      "source": [
        "i = 0\n",
        "for index, cosine_simalirity in top_three_similar_reviews:\n",
        "  print(\"Product Id:\",df.loc[index,\"product id\"])\n",
        "  print(\"Image Link:\",df.loc[index,\"Image\"] )\n",
        "  print(\"Product Review:\",df.loc[index,\"Review Text\"] )\n",
        "  print(\"Cosine Sim of Review:\",cosine_simalirity )\n",
        "  print(\"Cosine Sim of Image:\",cosine_similarities_images[i][1])\n",
        "  print(\"Composite Score:\", (cosine_simalirity+cosine_similarities_images[i][1])/2)\n",
        "  i+=1"
      ],
      "metadata": {
        "colab": {
          "base_uri": "https://localhost:8080/"
        },
        "id": "LYP9CejghrG7",
        "outputId": "2ab4a310-cd68-45db-cb9a-77b76b709386"
      },
      "execution_count": 174,
      "outputs": [
        {
          "output_type": "stream",
          "name": "stdout",
          "text": [
            "Product Id: 1193\n",
            "Image Link: https://images-na.ssl-images-amazon.com/images/I/61hjJnx2VEL._SY88.jpg\n",
            "Product Review: Works great. Improves audio greatly on the BMPCC. So versatile. I can rig it to a camera plug in an external Mic or use it all by itself as a recorder. Not to fond of the thin plastic makes it feel like a cheap toy but it's lightweight and works great.\n",
            "Cosine Sim of Review: 0.9416968426657427\n",
            "Cosine Sim of Image: 0.23372218\n",
            "Composite Score: 0.5877095113969202\n",
            "Product Id: 3084\n",
            "Image Link: https://images-na.ssl-images-amazon.com/images/I/71p19X3PuUL._SY88.jpg\n",
            "Product Review: This model sounds and plays as well as any guitar I've ever owned. Even my custom Clapton strat in daphne blue.\n",
            "You won't be able to put it down. The daphne blue is the sweetest color. Yeah. It's Mexican but it is flawless.\n",
            "Only tip- test drive a few. Mine actually has a mild flame neck.\n",
            "I promise. If you get it it will turn into a favorite instantly. Better craftsmanship than some American mades. I'm dead serious.\n",
            "Cosine Sim of Review: 0.939800774954963\n",
            "Cosine Sim of Image: 0.17327593\n",
            "Composite Score: 0.5565383538123012\n",
            "Product Id: 2233\n",
            "Image Link: https://images-na.ssl-images-amazon.com/images/I/71oRDdr-weL._SY88.jpg\n",
            "Product Review: Works so good that I didn't expect it to. The connected is not locked into any one position which means it's always turning so that can be a bit annoying. But once set, this small device delivers better than my amp. Was thinking of getting for a friend. I may just do so since it is this good\n",
            "Cosine Sim of Review: 0.9356479145561\n",
            "Cosine Sim of Image: 0.077374816\n",
            "Composite Score: 0.5065113652484785\n"
          ]
        }
      ]
    },
    {
      "cell_type": "code",
      "source": [
        "# a. Present the top-ranked (image, review) pairs along with the cosine similarity scores\n",
        "print(\"Top-ranked (image, review) pairs along with cosine similarity scores:\")\n",
        "for index, similarity_score in top_three_similar_reviews:\n",
        "    print(f\"Image ID: {df.loc[index, 'Image']}, Review: {df.loc[index, 'Review Text']}\")\n",
        "    print(f\"Cosine Similarity Score: {similarity_score}\")\n",
        "    print()"
      ],
      "metadata": {
        "colab": {
          "base_uri": "https://localhost:8080/"
        },
        "id": "ASeM77ftqy7u",
        "outputId": "d5c52bfb-fb76-4f14-99ad-a164bdda04f0"
      },
      "execution_count": 175,
      "outputs": [
        {
          "output_type": "stream",
          "name": "stdout",
          "text": [
            "Top-ranked (image, review) pairs along with cosine similarity scores:\n",
            "Image ID: https://images-na.ssl-images-amazon.com/images/I/61hjJnx2VEL._SY88.jpg, Review: Works great. Improves audio greatly on the BMPCC. So versatile. I can rig it to a camera plug in an external Mic or use it all by itself as a recorder. Not to fond of the thin plastic makes it feel like a cheap toy but it's lightweight and works great.\n",
            "Cosine Similarity Score: 0.9416968426657427\n",
            "\n",
            "Image ID: https://images-na.ssl-images-amazon.com/images/I/71p19X3PuUL._SY88.jpg, Review: This model sounds and plays as well as any guitar I've ever owned. Even my custom Clapton strat in daphne blue.\n",
            "You won't be able to put it down. The daphne blue is the sweetest color. Yeah. It's Mexican but it is flawless.\n",
            "Only tip- test drive a few. Mine actually has a mild flame neck.\n",
            "I promise. If you get it it will turn into a favorite instantly. Better craftsmanship than some American mades. I'm dead serious.\n",
            "Cosine Similarity Score: 0.939800774954963\n",
            "\n",
            "Image ID: https://images-na.ssl-images-amazon.com/images/I/71oRDdr-weL._SY88.jpg, Review: Works so good that I didn't expect it to. The connected is not locked into any one position which means it's always turning so that can be a bit annoying. But once set, this small device delivers better than my amp. Was thinking of getting for a friend. I may just do so since it is this good\n",
            "Cosine Similarity Score: 0.9356479145561\n",
            "\n"
          ]
        }
      ]
    }
  ]
}